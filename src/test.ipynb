{
 "cells": [
  {
   "cell_type": "code",
   "execution_count": 1,
   "metadata": {},
   "outputs": [],
   "source": [
    "import sys"
   ]
  },
  {
   "cell_type": "code",
   "execution_count": 3,
   "metadata": {},
   "outputs": [
    {
     "data": {
      "text/plain": [
       "['/home/atefe/Number_guesser/src/src',\n",
       " '/home/atefe/miniconda3/envs/tmp/lib/python310.zip',\n",
       " '/home/atefe/miniconda3/envs/tmp/lib/python3.10',\n",
       " '/home/atefe/miniconda3/envs/tmp/lib/python3.10/lib-dynload',\n",
       " '',\n",
       " '/home/atefe/miniconda3/envs/tmp/lib/python3.10/site-packages']"
      ]
     },
     "execution_count": 3,
     "metadata": {},
     "output_type": "execute_result"
    }
   ],
   "source": [
    "sys.path"
   ]
  },
  {
   "cell_type": "code",
   "execution_count": null,
   "metadata": {},
   "outputs": [],
   "source": []
  }
 ],
 "metadata": {
  "kernelspec": {
   "display_name": "Python 3.10.14 ('tmp')",
   "language": "python",
   "name": "python3"
  },
  "language_info": {
   "codemirror_mode": {
    "name": "ipython",
    "version": 3
   },
   "file_extension": ".py",
   "mimetype": "text/x-python",
   "name": "python",
   "nbconvert_exporter": "python",
   "pygments_lexer": "ipython3",
   "version": "3.10.14"
  },
  "orig_nbformat": 4,
  "vscode": {
   "interpreter": {
    "hash": "2386534a7a8da7026c0b90794f04d0692049aa676c80f8872c9e3ab45bd84409"
   }
  }
 },
 "nbformat": 4,
 "nbformat_minor": 2
}
